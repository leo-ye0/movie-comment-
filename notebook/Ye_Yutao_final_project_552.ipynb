{
 "cells": [
  {
   "cell_type": "markdown",
   "metadata": {},
   "source": [
    "<center><h1>Ye_Yutao_Final Project</h1></center>"
   ]
  },
  {
   "cell_type": "markdown",
   "metadata": {},
   "source": [
    "Name: Yutao Ye\n",
    "<br>\n",
    "Github Username: leo-ye0\n",
    "<br>\n",
    "USC ID: 2448443089"
   ]
  },
  {
   "cell_type": "markdown",
   "metadata": {},
   "source": [
    "## 1. Text Classification"
   ]
  },
  {
   "cell_type": "markdown",
   "metadata": {},
   "source": [
    "import packages"
   ]
  },
  {
   "cell_type": "code",
   "execution_count": 1,
   "metadata": {},
   "outputs": [],
   "source": [
    "import numpy as np\n",
    "import pandas as pd\n",
    "import sklearn\n",
    "import tensorflow as tf\n",
    "import matplotlib.pyplot as plt\n",
    "from tensorflow.python import keras\n",
    "from keras.preprocessing.text import Tokenizer\n",
    "import os\n",
    "import string\n",
    "from keras.preprocessing.sequence import pad_sequences\n",
    "from keras.models import Sequential\n",
    "from keras.layers import Embedding, Flatten, Dense, Dropout, Activation, Conv1D, MaxPooling1D, LSTM, Bidirectional\n",
    "from keras.optimizers.legacy import Adam\n",
    "from keras.losses import MeanSquaredError"
   ]
  },
  {
   "cell_type": "markdown",
   "metadata": {},
   "source": [
    "### (a) Download the Data Set"
   ]
  },
  {
   "cell_type": "code",
   "execution_count": 2,
   "metadata": {},
   "outputs": [],
   "source": [
    "def load_txt(folder,label, start, end):\n",
    "    data = []\n",
    "    filenames = sorted(os.listdir(folder))\n",
    "    for filename in filenames[start:end]:\n",
    "        with open(os.path.join(folder, filename), 'r') as file:\n",
    "            text = file.read()\n",
    "            for line in text.split('\\n'):\n",
    "                data.append([line,label])\n",
    "    return data\n",
    "\n",
    "neg_path = '../data/neg'\n",
    "pos_path = '../data/pos'"
   ]
  },
  {
   "cell_type": "markdown",
   "metadata": {},
   "source": [
    "### (b) Data Exploration and Pre-processing"
   ]
  },
  {
   "cell_type": "markdown",
   "metadata": {},
   "source": [
    "i. use binary encoding for sentiments(1,-1) & iii. Split train test."
   ]
  },
  {
   "cell_type": "code",
   "execution_count": 3,
   "metadata": {},
   "outputs": [],
   "source": [
    "positive_train = load_txt(pos_path,1,0,700)\n",
    "negative_train = load_txt(neg_path,-1,0,700)\n",
    "positive_test = load_txt(pos_path,1,700,1000)\n",
    "negative_test = load_txt(neg_path,-1,700,1000)\n",
    "\n",
    "pos_train = pd.DataFrame(positive_train, columns=['text', 'sentiment'])\n",
    "neg_train = pd.DataFrame(negative_train, columns=['text', 'sentiment'])\n",
    "pos_test = pd.DataFrame(positive_test, columns=['text', 'sentiment'])\n",
    "neg_test = pd.DataFrame(negative_test, columns=['text', 'sentiment'])\n",
    "\n",
    "pos_train = pos_train[pos_train['text'].str.strip().astype(bool)]\n",
    "neg_train = neg_train[neg_train['text'].str.strip().astype(bool)]\n",
    "pos_test = pos_test[pos_test['text'].str.strip().astype(bool)]\n",
    "neg_test = neg_test[neg_test['text'].str.strip().astype(bool)]"
   ]
  },
  {
   "cell_type": "markdown",
   "metadata": {},
   "source": [
    "ii. Remove the punctuation and numbers from the data."
   ]
  },
  {
   "cell_type": "code",
   "execution_count": 4,
   "metadata": {},
   "outputs": [],
   "source": [
    "def clean_data(text):\n",
    "    translator = str.maketrans('', '', string.punctuation + string.digits)\n",
    "    return text.translate(translator)\n",
    "\n",
    "pos_train['text'] = pos_train['text'].apply(clean_data)\n",
    "neg_train['text'] = neg_train['text'].apply(clean_data)\n",
    "pos_test['text'] = pos_test['text'].apply(clean_data)\n",
    "neg_test['text'] = neg_test['text'].apply(clean_data)"
   ]
  },
  {
   "cell_type": "markdown",
   "metadata": {},
   "source": [
    "iv. Count the number of unique words in the whole dataset."
   ]
  },
  {
   "cell_type": "code",
   "execution_count": 5,
   "metadata": {},
   "outputs": [
    {
     "name": "stdout",
     "output_type": "stream",
     "text": [
      "The number of unique words in the whole dataset is 46830.\n"
     ]
    }
   ],
   "source": [
    "df_train = pd.concat([pos_train, neg_train])\n",
    "df_test = pd.concat([pos_test, neg_test])\n",
    "df = pd.concat([df_train, df_test])\n",
    "# print(df_train.head())\n",
    "tokenizer = Tokenizer()\n",
    "tokenizer.fit_on_texts(df['text'])\n",
    "unique_cnt = len(tokenizer.word_index)\n",
    "print('The number of unique words in the whole dataset is ' + str(unique_cnt) + '.')\n"
   ]
  },
  {
   "cell_type": "markdown",
   "metadata": {},
   "source": [
    "v. Calculate the average review length and the standard deviation of review lengths."
   ]
  },
  {
   "cell_type": "code",
   "execution_count": 6,
   "metadata": {},
   "outputs": [
    {
     "name": "stdout",
     "output_type": "stream",
     "text": [
      "The average review length: 19.91209826946848\n",
      "The standard deviation of the review length: 11.821401502509953\n"
     ]
    }
   ],
   "source": [
    "review_lengths = [len(review.split()) for review in df['text']]\n",
    "avg_length = np.mean(review_lengths)\n",
    "std_length = np.std(review_lengths)\n",
    "print('The average review length:', avg_length)\n",
    "print('The standard deviation of the review length:', std_length)\n"
   ]
  },
  {
   "cell_type": "markdown",
   "metadata": {},
   "source": [
    "vi. Plot the histogram of review lengths."
   ]
  },
  {
   "cell_type": "code",
   "execution_count": 7,
   "metadata": {},
   "outputs": [
    {
     "data": {
      "image/png": "[encoded data removed]",
      "text/plain": [
       "<Figure size 640x480 with 1 Axes>"
      ]
     },
     "metadata": {},
     "output_type": "display_data"
    }
   ],
   "source": [
    "plt.hist(review_lengths, edgecolor='black', bins=50)\n",
    "plt.xlabel('Review Length')\n",
    "plt.ylabel('Number of Reviews')\n",
    "plt.title('Review Length Histogram')\n",
    "plt.show()"
   ]
  },
  {
   "cell_type": "markdown",
   "metadata": {},
   "source": [
    "vii. Tokenization"
   ]
  },
  {
   "cell_type": "code",
   "execution_count": 8,
   "metadata": {},
   "outputs": [],
   "source": [
    "tokenizer = Tokenizer()\n",
    "tokenizer.fit_on_texts(df_train['text'])\n",
    "tok_df = tokenizer.texts_to_sequences(df['text'])\n",
    "tok_train = tokenizer.texts_to_sequences(df_train['text'])\n",
    "tok_test = tokenizer.texts_to_sequences(df_test['text'])"
   ]
  },
  {
   "cell_type": "markdown",
   "metadata": {},
   "source": [
    "viii. Select a review length L that 70% of the reviews have a length below it."
   ]
  },
  {
   "cell_type": "code",
   "execution_count": 9,
   "metadata": {},
   "outputs": [
    {
     "name": "stdout",
     "output_type": "stream",
     "text": [
      "L: 24.0\n"
     ]
    }
   ],
   "source": [
    "L = np.percentile(review_lengths, 70)\n",
    "print('L:', L)"
   ]
  },
  {
   "cell_type": "markdown",
   "metadata": {},
   "source": [
    "iv. Truncate and zero-pad"
   ]
  },
  {
   "cell_type": "code",
   "execution_count": 10,
   "metadata": {},
   "outputs": [
    {
     "data": {
      "text/plain": [
       "array([   16,     1,   567,     6,    39, 21091,     8,    56,     2,\n",
       "        5519,    21,  2626,  1675,   661,   260,     9,     0,     0,\n",
       "           0,     0,     0,     0,     0,     0], dtype=int32)"
      ]
     },
     "execution_count": 10,
     "metadata": {},
     "output_type": "execute_result"
    }
   ],
   "source": [
    "pad_train = pad_sequences(tok_train, maxlen = int(L), padding = 'post', truncating = 'post')\n",
    "pad_test = pad_sequences(tok_test, maxlen = int(L), padding = 'post', truncating = 'post')\n",
    "pad_df = pad_sequences(tok_df, maxlen = int(L), padding = 'post', truncating = 'post')\n",
    "\n",
    "pad_train[-8]\n"
   ]
  },
  {
   "cell_type": "markdown",
   "metadata": {},
   "source": [
    "### (c) Word Embeddings"
   ]
  },
  {
   "cell_type": "markdown",
   "metadata": {},
   "source": [
    "i. Word Embedding"
   ]
  },
  {
   "cell_type": "code",
   "execution_count": 11,
   "metadata": {},
   "outputs": [
    {
     "name": "stderr",
     "output_type": "stream",
     "text": [
      "2024-05-01 20:37:19.796323: I metal_plugin/src/device/metal_device.cc:1154] Metal device set to: Apple M3 Pro\n",
      "2024-05-01 20:37:19.796351: I metal_plugin/src/device/metal_device.cc:296] systemMemory: 18.00 GB\n",
      "2024-05-01 20:37:19.796357: I metal_plugin/src/device/metal_device.cc:313] maxCacheSize: 6.00 GB\n",
      "2024-05-01 20:37:19.796607: I tensorflow/core/common_runtime/pluggable_device/pluggable_device_factory.cc:303] Could not identify NUMA node of platform GPU ID 0, defaulting to 0. Your kernel may not have been built with NUMA support.\n",
      "2024-05-01 20:37:19.796631: I tensorflow/core/common_runtime/pluggable_device/pluggable_device_factory.cc:269] Created TensorFlow device (/job:localhost/replica:0/task:0/device:GPU:0 with 0 MB memory) -> physical PluggableDevice (device: 0, name: METAL, pci bus id: <undefined>)\n"
     ]
    }
   ],
   "source": [
    "top_words = 5000\n",
    "max_words = int(L) \n",
    "embed_vector_length = 32\n",
    "\n",
    "model = Sequential()\n",
    "model.add(Embedding(top_words+1, embed_vector_length, input_length=max_words, mask_zero=True))\n"
   ]
  },
  {
   "cell_type": "markdown",
   "metadata": {},
   "source": [
    "ii. Flatten the matrix"
   ]
  },
  {
   "cell_type": "code",
   "execution_count": 12,
   "metadata": {},
   "outputs": [],
   "source": [
    "model.add(Flatten())"
   ]
  },
  {
   "cell_type": "markdown",
   "metadata": {},
   "source": [
    "### (d) Multi-Layer Perceptron"
   ]
  },
  {
   "cell_type": "markdown",
   "metadata": {},
   "source": [
    "i. Train a MLP"
   ]
  },
  {
   "cell_type": "code",
   "execution_count": 13,
   "metadata": {},
   "outputs": [
    {
     "name": "stdout",
     "output_type": "stream",
     "text": [
      "Model: \"sequential\"\n",
      "_________________________________________________________________\n",
      " Layer (type)                Output Shape              Param #   \n",
      "=================================================================\n",
      " embedding (Embedding)       (None, 24, 32)            160032    \n",
      "                                                                 \n",
      " flatten (Flatten)           (None, 768)               0         \n",
      "                                                                 \n",
      " dense (Dense)               (None, 50)                38450     \n",
      "                                                                 \n",
      " dropout (Dropout)           (None, 50)                0         \n",
      "                                                                 \n",
      " dense_1 (Dense)             (None, 50)                2550      \n",
      "                                                                 \n",
      " dropout_1 (Dropout)         (None, 50)                0         \n",
      "                                                                 \n",
      " dense_2 (Dense)             (None, 50)                2550      \n",
      "                                                                 \n",
      " dropout_2 (Dropout)         (None, 50)                0         \n",
      "                                                                 \n",
      " dense_3 (Dense)             (None, 1)                 51        \n",
      "                                                                 \n",
      "=================================================================\n",
      "Total params: 203633 (795.44 KB)\n",
      "Trainable params: 203633 (795.44 KB)\n",
      "Non-trainable params: 0 (0.00 Byte)\n",
      "_________________________________________________________________\n",
      "Epoch 1/2\n"
     ]
    },
    {
     "name": "stderr",
     "output_type": "stream",
     "text": [
      "2024-05-01 20:37:24.050289: I tensorflow/core/grappler/optimizers/custom_graph_optimizer_registry.cc:114] Plugin optimizer for device_type GPU is enabled.\n"
     ]
    },
    {
     "name": "stdout",
     "output_type": "stream",
     "text": [
      "4530/4530 [==============================] - ETA: 0s - loss: 0.6697 - accuracy: 0.5852"
     ]
    },
    {
     "name": "stderr",
     "output_type": "stream",
     "text": [
      "2024-05-01 20:38:03.114308: I tensorflow/core/grappler/optimizers/custom_graph_optimizer_registry.cc:114] Plugin optimizer for device_type GPU is enabled.\n"
     ]
    },
    {
     "name": "stdout",
     "output_type": "stream",
     "text": [
      "4530/4530 [==============================] - 45s 10ms/step - loss: 0.6697 - accuracy: 0.5852 - val_loss: 0.6555 - val_accuracy: 0.6137\n",
      "Epoch 2/2\n",
      "4530/4530 [==============================] - 43s 10ms/step - loss: 0.6005 - accuracy: 0.6755 - val_loss: 0.6530 - val_accuracy: 0.6165\n"
     ]
    }
   ],
   "source": [
    "hidden_units = 50\n",
    "epoch = 2\n",
    "batch_size = 10\n",
    "\n",
    "df_train['sentiment'] = df_train['sentiment'].replace(-1, 0)\n",
    "df_test['sentiment'] = df_test['sentiment'].replace(-1, 0)\n",
    "\n",
    "model.add(Dense(hidden_units, activation='relu'))\n",
    "model.add(Dropout(0.2))\n",
    "model.add(Dense(hidden_units, activation='relu'))\n",
    "model.add(Dropout(0.5))\n",
    "model.add(Dense(hidden_units, activation='relu'))\n",
    "model.add(Dropout(0.5))\n",
    "model.add(Dense(1, activation='sigmoid'))\n",
    "model.compile(loss='binary_crossentropy', optimizer='adam', metrics=['accuracy'])\n",
    "model.summary()\n",
    "\n",
    "X = model.fit(pad_train, df_train['sentiment'], epochs=epoch, batch_size=batch_size, validation_data=(pad_test, df_test['sentiment']))\n"
   ]
  },
  {
   "cell_type": "markdown",
   "metadata": {},
   "source": [
    "ii. Report the train and test accuracies of this model"
   ]
  },
  {
   "cell_type": "code",
   "execution_count": 14,
   "metadata": {},
   "outputs": [
    {
     "name": "stdout",
     "output_type": "stream",
     "text": [
      "1416/1416 [==============================] - 5s 3ms/step - loss: 0.5438 - accuracy: 0.7448\n",
      "608/608 [==============================] - 2s 3ms/step - loss: 0.6530 - accuracy: 0.6165\n",
      "Train accuracy: 0.744762122631073\n",
      "Test accuracy: 0.6164736151695251\n"
     ]
    }
   ],
   "source": [
    "train_loss, train_accuracy = model.evaluate(pad_train, df_train['sentiment'])\n",
    "test_loss, test_accuracy = model.evaluate(pad_test, df_test['sentiment'])\n",
    "\n",
    "print('Train accuracy:', train_accuracy)\n",
    "print('Test accuracy:', test_accuracy)"
   ]
  },
  {
   "cell_type": "markdown",
   "metadata": {},
   "source": [
    "### (e) One-Dimensional Convolutional Neural Network:"
   ]
  },
  {
   "cell_type": "markdown",
   "metadata": {},
   "source": [
    "i. CNN"
   ]
  },
  {
   "cell_type": "code",
   "execution_count": 15,
   "metadata": {},
   "outputs": [
    {
     "name": "stdout",
     "output_type": "stream",
     "text": [
      "Model: \"sequential_1\"\n",
      "_________________________________________________________________\n",
      " Layer (type)                Output Shape              Param #   \n",
      "=================================================================\n",
      " embedding_1 (Embedding)     (None, 24, 32)            160032    \n",
      "                                                                 \n",
      " conv1d (Conv1D)             (None, 22, 32)            3104      \n",
      "                                                                 \n",
      " max_pooling1d (MaxPooling1  (None, 11, 32)            0         \n",
      " D)                                                              \n",
      "                                                                 \n",
      " flatten_1 (Flatten)         (None, 352)               0         \n",
      "                                                                 \n",
      " dense_4 (Dense)             (None, 50)                17650     \n",
      "                                                                 \n",
      " dropout_3 (Dropout)         (None, 50)                0         \n",
      "                                                                 \n",
      " dense_5 (Dense)             (None, 50)                2550      \n",
      "                                                                 \n",
      " dropout_4 (Dropout)         (None, 50)                0         \n",
      "                                                                 \n",
      " dense_6 (Dense)             (None, 50)                2550      \n",
      "                                                                 \n",
      " dropout_5 (Dropout)         (None, 50)                0         \n",
      "                                                                 \n",
      " dense_7 (Dense)             (None, 1)                 51        \n",
      "                                                                 \n",
      "=================================================================\n",
      "Total params: 185937 (726.32 KB)\n",
      "Trainable params: 185937 (726.32 KB)\n",
      "Non-trainable params: 0 (0.00 Byte)\n",
      "_________________________________________________________________\n",
      "Epoch 1/2\n"
     ]
    },
    {
     "name": "stderr",
     "output_type": "stream",
     "text": [
      "2024-05-01 20:39:05.727680: I tensorflow/core/grappler/optimizers/custom_graph_optimizer_registry.cc:114] Plugin optimizer for device_type GPU is enabled.\n"
     ]
    },
    {
     "name": "stdout",
     "output_type": "stream",
     "text": [
      "4530/4530 [==============================] - ETA: 0s - loss: 0.6799 - accuracy: 0.5652"
     ]
    },
    {
     "name": "stderr",
     "output_type": "stream",
     "text": [
      "2024-05-01 20:39:48.318178: I tensorflow/core/grappler/optimizers/custom_graph_optimizer_registry.cc:114] Plugin optimizer for device_type GPU is enabled.\n"
     ]
    },
    {
     "name": "stdout",
     "output_type": "stream",
     "text": [
      "4530/4530 [==============================] - 49s 11ms/step - loss: 0.6799 - accuracy: 0.5652 - val_loss: 0.6716 - val_accuracy: 0.5946\n",
      "Epoch 2/2\n",
      "4530/4530 [==============================] - 47s 10ms/step - loss: 0.6596 - accuracy: 0.6170 - val_loss: 0.6797 - val_accuracy: 0.5956\n"
     ]
    }
   ],
   "source": [
    "top_words = 5000\n",
    "L = np.percentile(review_lengths, 70)\n",
    "max_words = int(L) \n",
    "embed_vector_length = 32\n",
    "hidden_units = 50\n",
    "epoch = 2\n",
    "batch_size = 10\n",
    "\n",
    "pad_train = pad_sequences(tok_train, maxlen = int(L), padding = 'post', truncating = 'post')\n",
    "pad_test = pad_sequences(tok_test, maxlen = int(L), padding = 'post', truncating = 'post')\n",
    "pad_df = pad_sequences(tok_df, maxlen = int(L), padding = 'post', truncating = 'post')\n",
    "\n",
    "model = Sequential()\n",
    "model.add(Embedding(top_words+1, embed_vector_length, input_length=max_words, mask_zero=True))\n",
    "model.add(Conv1D(filters=32, kernel_size=3, activation='relu'))\n",
    "model.add(MaxPooling1D(pool_size=2,strides=2))\n",
    "model.add(Flatten())\n",
    "model.add(Dense(hidden_units, activation='relu'))\n",
    "model.add(Dropout(0.2))\n",
    "model.add(Dense(hidden_units, activation='relu'))\n",
    "model.add(Dropout(0.5))\n",
    "model.add(Dense(hidden_units, activation='relu'))\n",
    "model.add(Dropout(0.5))\n",
    "model.add(Dense(1, activation='sigmoid'))\n",
    "model.compile(loss='binary_crossentropy', optimizer='adam', metrics=['accuracy'])\n",
    "model.summary()\n",
    "\n",
    "X = model.fit(pad_train, df_train['sentiment'], epochs=epoch, batch_size=batch_size, validation_data=(pad_test, df_test['sentiment']))\n",
    "\n"
   ]
  },
  {
   "cell_type": "markdown",
   "metadata": {},
   "source": [
    "ii. Report the train and test accuracies of this model"
   ]
  },
  {
   "cell_type": "code",
   "execution_count": 16,
   "metadata": {},
   "outputs": [
    {
     "name": "stdout",
     "output_type": "stream",
     "text": [
      "1416/1416 [==============================] - 5s 4ms/step - loss: 0.6081 - accuracy: 0.6630\n",
      "608/608 [==============================] - 2s 4ms/step - loss: 0.6797 - accuracy: 0.5956\n",
      "Train accuracy: 0.6630312204360962\n",
      "Test accuracy: 0.5955727100372314\n"
     ]
    }
   ],
   "source": [
    "train_loss, train_accuracy = model.evaluate(pad_train, df_train['sentiment'])\n",
    "test_loss, test_accuracy = model.evaluate(pad_test, df_test['sentiment'])\n",
    "\n",
    "print('Train accuracy:', train_accuracy)\n",
    "print('Test accuracy:', test_accuracy)"
   ]
  },
  {
   "cell_type": "markdown",
   "metadata": {},
   "source": [
    "Trying to find better model, leaky relu performs better. Increasing epoch will lead to overfit. Add one more hidden layer."
   ]
  },
  {
   "cell_type": "code",
   "execution_count": 17,
   "metadata": {},
   "outputs": [
    {
     "name": "stdout",
     "output_type": "stream",
     "text": [
      "Model: \"sequential_2\"\n",
      "_________________________________________________________________\n",
      " Layer (type)                Output Shape              Param #   \n",
      "=================================================================\n",
      " embedding_2 (Embedding)     (None, 24, 32)            224032    \n",
      "                                                                 \n",
      " conv1d_1 (Conv1D)           (None, 22, 32)            3104      \n",
      "                                                                 \n",
      " max_pooling1d_1 (MaxPoolin  (None, 11, 32)            0         \n",
      " g1D)                                                            \n",
      "                                                                 \n",
      " flatten_2 (Flatten)         (None, 352)               0         \n",
      "                                                                 \n",
      " dense_8 (Dense)             (None, 50)                17650     \n",
      "                                                                 \n",
      " dropout_6 (Dropout)         (None, 50)                0         \n",
      "                                                                 \n",
      " dense_9 (Dense)             (None, 50)                2550      \n",
      "                                                                 \n",
      " dropout_7 (Dropout)         (None, 50)                0         \n",
      "                                                                 \n",
      " dense_10 (Dense)            (None, 50)                2550      \n",
      "                                                                 \n",
      " dropout_8 (Dropout)         (None, 50)                0         \n",
      "                                                                 \n",
      " dense_11 (Dense)            (None, 50)                2550      \n",
      "                                                                 \n",
      " dropout_9 (Dropout)         (None, 50)                0         \n",
      "                                                                 \n",
      " dense_12 (Dense)            (None, 1)                 51        \n",
      "                                                                 \n",
      "=================================================================\n",
      "Total params: 252487 (986.28 KB)\n",
      "Trainable params: 252487 (986.28 KB)\n",
      "Non-trainable params: 0 (0.00 Byte)\n",
      "_________________________________________________________________\n",
      "Epoch 1/2\n"
     ]
    },
    {
     "name": "stderr",
     "output_type": "stream",
     "text": [
      "2024-05-01 20:40:54.518069: I tensorflow/core/grappler/optimizers/custom_graph_optimizer_registry.cc:114] Plugin optimizer for device_type GPU is enabled.\n"
     ]
    },
    {
     "name": "stdout",
     "output_type": "stream",
     "text": [
      "4530/4530 [==============================] - ETA: 0s - loss: 0.6498 - accuracy: 0.6112"
     ]
    },
    {
     "name": "stderr",
     "output_type": "stream",
     "text": [
      "2024-05-01 20:41:42.498425: I tensorflow/core/grappler/optimizers/custom_graph_optimizer_registry.cc:114] Plugin optimizer for device_type GPU is enabled.\n"
     ]
    },
    {
     "name": "stdout",
     "output_type": "stream",
     "text": [
      "4530/4530 [==============================] - 55s 12ms/step - loss: 0.6498 - accuracy: 0.6112 - val_loss: 0.6425 - val_accuracy: 0.6294\n",
      "Epoch 2/2\n",
      "4530/4530 [==============================] - 52s 12ms/step - loss: 0.5327 - accuracy: 0.7318 - val_loss: 0.6485 - val_accuracy: 0.6215\n",
      "1416/1416 [==============================] - 6s 4ms/step - loss: 0.4781 - accuracy: 0.8275\n",
      "608/608 [==============================] - 2s 4ms/step - loss: 0.6485 - accuracy: 0.6215\n",
      "Train accuracy: 0.8274644017219543\n",
      "Test accuracy: 0.6215186715126038\n"
     ]
    }
   ],
   "source": [
    "L = np.percentile(review_lengths, 70)\n",
    "top_words = 7000\n",
    "max_words = int(L) \n",
    "embed_vector_length = 32\n",
    "hidden_units = 50\n",
    "epoch = 2\n",
    "batch_size = 10\n",
    "\n",
    "pad_train = pad_sequences(tok_train, maxlen = int(L), padding = 'post', truncating = 'post')\n",
    "pad_test = pad_sequences(tok_test, maxlen = int(L), padding = 'post', truncating = 'post')\n",
    "pad_df = pad_sequences(tok_df, maxlen = int(L), padding = 'post', truncating = 'post')\n",
    "\n",
    "model = Sequential()\n",
    "model.add(Embedding(top_words+1, embed_vector_length, input_length=max_words, mask_zero=True))\n",
    "model.add(Conv1D(filters=32, kernel_size=3, activation='leaky_relu'))\n",
    "model.add(MaxPooling1D(pool_size=2,strides=2))\n",
    "model.add(Flatten())\n",
    "model.add(Dense(hidden_units, activation='leaky_relu'))\n",
    "model.add(Dropout(0.2))\n",
    "model.add(Dense(hidden_units, activation='leaky_relu'))\n",
    "model.add(Dropout(0.5))\n",
    "model.add(Dense(hidden_units, activation='leaky_relu'))\n",
    "model.add(Dropout(0.5))\n",
    "model.add(Dense(hidden_units, activation='leaky_relu'))\n",
    "model.add(Dropout(0.5))\n",
    "model.add(Dense(1, activation='sigmoid'))\n",
    "model.compile(loss='binary_crossentropy', optimizer='adam', metrics=['accuracy'])\n",
    "model.summary()\n",
    "\n",
    "X = model.fit(pad_train, df_train['sentiment'], epochs=epoch, batch_size=batch_size, validation_data=(pad_test, df_test['sentiment']))\n",
    "\n",
    "train_loss, train_accuracy = model.evaluate(pad_train, df_train['sentiment'])\n",
    "test_loss, test_accuracy = model.evaluate(pad_test, df_test['sentiment'])\n",
    "\n",
    "print('Train accuracy:', train_accuracy)\n",
    "print('Test accuracy:', test_accuracy)\n"
   ]
  },
  {
   "cell_type": "markdown",
   "metadata": {},
   "source": [
    "### (f) Long Short-Term Memory Recurrent Neural Network"
   ]
  },
  {
   "cell_type": "markdown",
   "metadata": {},
   "source": [
    "i. LSTM"
   ]
  },
  {
   "cell_type": "markdown",
   "metadata": {},
   "source": [
    "10 epochs"
   ]
  },
  {
   "cell_type": "code",
   "execution_count": 21,
   "metadata": {},
   "outputs": [
    {
     "name": "stdout",
     "output_type": "stream",
     "text": [
      "Model: \"sequential_6\"\n",
      "_________________________________________________________________\n",
      " Layer (type)                Output Shape              Param #   \n",
      "=================================================================\n",
      " embedding_6 (Embedding)     (None, 24, 32)            160032    \n",
      "                                                                 \n",
      " lstm_3 (LSTM)               (None, 256)               295936    \n",
      "                                                                 \n",
      " dense_19 (Dense)            (None, 256)               65792     \n",
      "                                                                 \n",
      " dropout_13 (Dropout)        (None, 256)               0         \n",
      "                                                                 \n",
      " dense_20 (Dense)            (None, 1)                 257       \n",
      "                                                                 \n",
      "=================================================================\n",
      "Total params: 522017 (1.99 MB)\n",
      "Trainable params: 522017 (1.99 MB)\n",
      "Non-trainable params: 0 (0.00 Byte)\n",
      "_________________________________________________________________\n",
      "Epoch 1/10\n"
     ]
    },
    {
     "name": "stderr",
     "output_type": "stream",
     "text": [
      "2024-05-01 22:28:51.609191: I tensorflow/core/grappler/optimizers/custom_graph_optimizer_registry.cc:114] Plugin optimizer for device_type GPU is enabled.\n",
      "2024-05-01 22:28:51.889182: I tensorflow/core/grappler/optimizers/custom_graph_optimizer_registry.cc:114] Plugin optimizer for device_type GPU is enabled.\n",
      "2024-05-01 22:28:52.275822: I tensorflow/core/grappler/optimizers/custom_graph_optimizer_registry.cc:114] Plugin optimizer for device_type GPU is enabled.\n"
     ]
    },
    {
     "name": "stdout",
     "output_type": "stream",
     "text": [
      "4530/4530 [==============================] - ETA: 0s - loss: 0.6651 - accuracy: 0.5857"
     ]
    },
    {
     "name": "stderr",
     "output_type": "stream",
     "text": [
      "2024-05-01 22:31:21.923565: I tensorflow/core/grappler/optimizers/custom_graph_optimizer_registry.cc:114] Plugin optimizer for device_type GPU is enabled.\n",
      "2024-05-01 22:31:22.050673: I tensorflow/core/grappler/optimizers/custom_graph_optimizer_registry.cc:114] Plugin optimizer for device_type GPU is enabled.\n"
     ]
    },
    {
     "name": "stdout",
     "output_type": "stream",
     "text": [
      "4530/4530 [==============================] - 169s 37ms/step - loss: 0.6651 - accuracy: 0.5857 - val_loss: 0.6514 - val_accuracy: 0.6227\n",
      "Epoch 2/10\n",
      "4530/4530 [==============================] - 164s 36ms/step - loss: 0.5888 - accuracy: 0.6863 - val_loss: 0.6586 - val_accuracy: 0.6299\n",
      "Epoch 3/10\n",
      "4530/4530 [==============================] - 162s 36ms/step - loss: 0.5522 - accuracy: 0.7139 - val_loss: 0.6639 - val_accuracy: 0.6233\n",
      "Epoch 4/10\n",
      "4530/4530 [==============================] - 160s 35ms/step - loss: 0.5236 - accuracy: 0.7301 - val_loss: 0.6983 - val_accuracy: 0.6174\n",
      "Epoch 5/10\n",
      "4530/4530 [==============================] - 159s 35ms/step - loss: 0.4993 - accuracy: 0.7412 - val_loss: 0.7573 - val_accuracy: 0.6051\n",
      "Epoch 6/10\n",
      "4530/4530 [==============================] - 161s 36ms/step - loss: 0.4799 - accuracy: 0.7511 - val_loss: 0.7495 - val_accuracy: 0.6214\n",
      "Epoch 7/10\n",
      "4530/4530 [==============================] - 164s 36ms/step - loss: 0.4657 - accuracy: 0.7573 - val_loss: 0.7690 - val_accuracy: 0.6044\n",
      "Epoch 8/10\n",
      "4530/4530 [==============================] - 162s 36ms/step - loss: 0.4589 - accuracy: 0.7620 - val_loss: 0.8382 - val_accuracy: 0.6114\n",
      "Epoch 9/10\n",
      "4530/4530 [==============================] - 161s 36ms/step - loss: 0.4479 - accuracy: 0.7665 - val_loss: 0.8604 - val_accuracy: 0.5936\n",
      "Epoch 10/10\n",
      "4530/4530 [==============================] - 160s 35ms/step - loss: 0.4481 - accuracy: 0.7644 - val_loss: 0.7623 - val_accuracy: 0.5989\n"
     ]
    }
   ],
   "source": [
    "L = np.percentile(review_lengths, 70)\n",
    "top_words = 5000\n",
    "max_words = int(L) \n",
    "embed_vector_length = 32\n",
    "lstm_units = 256\n",
    "epoch = 10\n",
    "batch_size = 10\n",
    "\n",
    "pad_train = pad_sequences(tok_train, maxlen = int(L), padding = 'post', truncating = 'post')\n",
    "pad_test = pad_sequences(tok_test, maxlen = int(L), padding = 'post', truncating = 'post')\n",
    "pad_df = pad_sequences(tok_df, maxlen = int(L), padding = 'post', truncating = 'post')\n",
    "\n",
    "model = Sequential()\n",
    "model.add(Embedding(top_words+1, embed_vector_length, input_length=max_words, mask_zero=True))\n",
    "model.add(LSTM(lstm_units, dropout=0.2, return_sequences=False))\n",
    "model.add(Dense(256, activation='relu'))\n",
    "model.add(Dropout(0.2))\n",
    "model.add(Dense(1, activation='sigmoid'))\n",
    "model.compile(loss='binary_crossentropy', optimizer='adam', metrics=['accuracy'])\n",
    "model.summary()\n",
    "\n",
    "X = model.fit(pad_train, df_train['sentiment'], epochs=epoch, batch_size=batch_size, validation_data=(pad_test, df_test['sentiment']))\n",
    "\n"
   ]
  },
  {
   "cell_type": "code",
   "execution_count": 24,
   "metadata": {},
   "outputs": [
    {
     "name": "stdout",
     "output_type": "stream",
     "text": [
      "1416/1416 [==============================] - 42s 29ms/step - loss: 0.5081 - accuracy: 0.7379\n",
      "608/608 [==============================] - 18s 30ms/step - loss: 0.6973 - accuracy: 0.6090\n",
      "Train accuracy: 0.737873911857605\n",
      "Test accuracy: 0.6090090274810791\n"
     ]
    }
   ],
   "source": [
    "train_loss, train_accuracy = model.evaluate(pad_train, df_train['sentiment'])\n",
    "test_loss, test_accuracy = model.evaluate(pad_test, df_test['sentiment'])\n",
    "\n",
    "print('Train accuracy:', train_accuracy)\n",
    "print('Test accuracy:', test_accuracy)"
   ]
  },
  {
   "cell_type": "markdown",
   "metadata": {},
   "source": [
    "5 epochs"
   ]
  },
  {
   "cell_type": "code",
   "execution_count": 19,
   "metadata": {},
   "outputs": [
    {
     "name": "stdout",
     "output_type": "stream",
     "text": [
      "Model: \"sequential_4\"\n",
      "_________________________________________________________________\n",
      " Layer (type)                Output Shape              Param #   \n",
      "=================================================================\n",
      " embedding_4 (Embedding)     (None, 24, 32)            160032    \n",
      "                                                                 \n",
      " bidirectional_1 (Bidirecti  (None, 512)               591872    \n",
      " onal)                                                           \n",
      "                                                                 \n",
      " dense_15 (Dense)            (None, 256)               131328    \n",
      "                                                                 \n",
      " dropout_11 (Dropout)        (None, 256)               0         \n",
      "                                                                 \n",
      " dense_16 (Dense)            (None, 1)                 257       \n",
      "                                                                 \n",
      "=================================================================\n",
      "Total params: 883489 (3.37 MB)\n",
      "Trainable params: 883489 (3.37 MB)\n",
      "Non-trainable params: 0 (0.00 Byte)\n",
      "_________________________________________________________________\n",
      "Epoch 1/5\n"
     ]
    },
    {
     "name": "stderr",
     "output_type": "stream",
     "text": [
      "2024-05-01 21:00:21.391735: I tensorflow/core/grappler/optimizers/custom_graph_optimizer_registry.cc:114] Plugin optimizer for device_type GPU is enabled.\n",
      "2024-05-01 21:00:21.831584: I tensorflow/core/grappler/optimizers/custom_graph_optimizer_registry.cc:114] Plugin optimizer for device_type GPU is enabled.\n",
      "2024-05-01 21:00:21.960951: I tensorflow/core/grappler/optimizers/custom_graph_optimizer_registry.cc:114] Plugin optimizer for device_type GPU is enabled.\n",
      "2024-05-01 21:00:22.266205: I tensorflow/core/grappler/optimizers/custom_graph_optimizer_registry.cc:114] Plugin optimizer for device_type GPU is enabled.\n",
      "2024-05-01 21:00:22.402042: I tensorflow/core/grappler/optimizers/custom_graph_optimizer_registry.cc:114] Plugin optimizer for device_type GPU is enabled.\n"
     ]
    },
    {
     "name": "stdout",
     "output_type": "stream",
     "text": [
      "4530/4530 [==============================] - ETA: 0s - loss: 0.6618 - accuracy: 0.5932"
     ]
    },
    {
     "name": "stderr",
     "output_type": "stream",
     "text": [
      "2024-05-01 21:05:21.749173: I tensorflow/core/grappler/optimizers/custom_graph_optimizer_registry.cc:114] Plugin optimizer for device_type GPU is enabled.\n",
      "2024-05-01 21:05:21.954451: I tensorflow/core/grappler/optimizers/custom_graph_optimizer_registry.cc:114] Plugin optimizer for device_type GPU is enabled.\n",
      "2024-05-01 21:05:22.014744: I tensorflow/core/grappler/optimizers/custom_graph_optimizer_registry.cc:114] Plugin optimizer for device_type GPU is enabled.\n"
     ]
    },
    {
     "name": "stdout",
     "output_type": "stream",
     "text": [
      "4530/4530 [==============================] - 341s 75ms/step - loss: 0.6618 - accuracy: 0.5932 - val_loss: 0.6457 - val_accuracy: 0.6268\n",
      "Epoch 2/5\n",
      "4530/4530 [==============================] - 336s 74ms/step - loss: 0.5869 - accuracy: 0.6882 - val_loss: 0.6423 - val_accuracy: 0.6269\n",
      "Epoch 3/5\n",
      "4530/4530 [==============================] - 332s 73ms/step - loss: 0.5512 - accuracy: 0.7116 - val_loss: 0.6653 - val_accuracy: 0.6280\n",
      "Epoch 4/5\n",
      "4530/4530 [==============================] - 327s 72ms/step - loss: 0.5197 - accuracy: 0.7319 - val_loss: 0.6620 - val_accuracy: 0.6204\n",
      "Epoch 5/5\n",
      "4530/4530 [==============================] - 329s 73ms/step - loss: 0.4969 - accuracy: 0.7393 - val_loss: 0.7575 - val_accuracy: 0.6175\n",
      "1416/1416 [==============================] - 38s 26ms/step - loss: 0.4688 - accuracy: 0.7531\n",
      "608/608 [==============================] - 17s 28ms/step - loss: 0.7606 - accuracy: 0.6168\n",
      "Train accuracy: 0.7531294822692871\n",
      "Test accuracy: 0.6167824864387512\n"
     ]
    }
   ],
   "source": [
    "L = np.percentile(review_lengths, 70)\n",
    "top_words = 5000\n",
    "max_words = int(L) \n",
    "embed_vector_length = 32\n",
    "lstm_units = 256\n",
    "epoch = 5\n",
    "batch_size = 10\n",
    "\n",
    "pad_train = pad_sequences(tok_train, maxlen = int(L), padding = 'post', truncating = 'post')\n",
    "pad_test = pad_sequences(tok_test, maxlen = int(L), padding = 'post', truncating = 'post')\n",
    "pad_df = pad_sequences(tok_df, maxlen = int(L), padding = 'post', truncating = 'post')\n",
    "\n",
    "model = Sequential()\n",
    "model.add(Embedding(top_words+1, embed_vector_length, input_length=max_words, mask_zero=True))\n",
    "model.add(Bidirectional(LSTM(lstm_units, dropout=0.2, return_sequences=False)))\n",
    "model.add(Dense(256, activation='relu'))\n",
    "model.add(Dropout(0.5))\n",
    "model.add(Dense(1, activation='sigmoid'))\n",
    "model.compile(loss='binary_crossentropy', optimizer='adam', metrics=['accuracy'])\n",
    "model.summary()\n",
    "\n",
    "X = model.fit(pad_train, df_train['sentiment'], epochs=epoch, batch_size=batch_size, validation_data=(pad_test, df_test['sentiment']))\n",
    "\n",
    "train_loss, train_accuracy = model.evaluate(pad_train, df_train['sentiment'])\n",
    "test_loss, test_accuracy = model.evaluate(pad_test, df_test['sentiment'])\n",
    "\n",
    "print('Train accuracy:', train_accuracy)\n",
    "print('Test accuracy:', test_accuracy)"
   ]
  },
  {
   "cell_type": "markdown",
   "metadata": {},
   "source": [
    "20 epochs"
   ]
  },
  {
   "cell_type": "code",
   "execution_count": 26,
   "metadata": {},
   "outputs": [
    {
     "name": "stdout",
     "output_type": "stream",
     "text": [
      "Model: \"sequential_10\"\n",
      "_________________________________________________________________\n",
      " Layer (type)                Output Shape              Param #   \n",
      "=================================================================\n",
      " embedding_10 (Embedding)    (None, 24, 32)            160032    \n",
      "                                                                 \n",
      " bidirectional_5 (Bidirecti  (None, 512)               591872    \n",
      " onal)                                                           \n",
      "                                                                 \n",
      " dense_27 (Dense)            (None, 256)               131328    \n",
      "                                                                 \n",
      " dropout_17 (Dropout)        (None, 256)               0         \n",
      "                                                                 \n",
      " dense_28 (Dense)            (None, 1)                 257       \n",
      "                                                                 \n",
      "=================================================================\n",
      "Total params: 883489 (3.37 MB)\n",
      "Trainable params: 883489 (3.37 MB)\n",
      "Non-trainable params: 0 (0.00 Byte)\n",
      "_________________________________________________________________\n",
      "Epoch 1/20\n"
     ]
    },
    {
     "name": "stderr",
     "output_type": "stream",
     "text": [
      "2024-05-02 00:04:12.644973: I tensorflow/core/grappler/optimizers/custom_graph_optimizer_registry.cc:114] Plugin optimizer for device_type GPU is enabled.\n",
      "2024-05-02 00:04:13.132687: I tensorflow/core/grappler/optimizers/custom_graph_optimizer_registry.cc:114] Plugin optimizer for device_type GPU is enabled.\n",
      "2024-05-02 00:04:13.285082: I tensorflow/core/grappler/optimizers/custom_graph_optimizer_registry.cc:114] Plugin optimizer for device_type GPU is enabled.\n",
      "2024-05-02 00:04:13.759041: I tensorflow/core/grappler/optimizers/custom_graph_optimizer_registry.cc:114] Plugin optimizer for device_type GPU is enabled.\n",
      "2024-05-02 00:04:13.898419: I tensorflow/core/grappler/optimizers/custom_graph_optimizer_registry.cc:114] Plugin optimizer for device_type GPU is enabled.\n"
     ]
    },
    {
     "name": "stdout",
     "output_type": "stream",
     "text": [
      "4530/4530 [==============================] - ETA: 0s - loss: 0.6581 - accuracy: 0.6010"
     ]
    },
    {
     "name": "stderr",
     "output_type": "stream",
     "text": [
      "2024-05-02 00:09:36.771264: I tensorflow/core/grappler/optimizers/custom_graph_optimizer_registry.cc:114] Plugin optimizer for device_type GPU is enabled.\n",
      "2024-05-02 00:09:36.987884: I tensorflow/core/grappler/optimizers/custom_graph_optimizer_registry.cc:114] Plugin optimizer for device_type GPU is enabled.\n",
      "2024-05-02 00:09:37.059050: I tensorflow/core/grappler/optimizers/custom_graph_optimizer_registry.cc:114] Plugin optimizer for device_type GPU is enabled.\n"
     ]
    },
    {
     "name": "stdout",
     "output_type": "stream",
     "text": [
      "4530/4530 [==============================] - 370s 81ms/step - loss: 0.6581 - accuracy: 0.6010 - val_loss: 0.6451 - val_accuracy: 0.6299\n",
      "Epoch 2/20\n",
      "4530/4530 [==============================] - 356s 79ms/step - loss: 0.5830 - accuracy: 0.6907 - val_loss: 0.6558 - val_accuracy: 0.6241\n",
      "Epoch 3/20\n",
      "4530/4530 [==============================] - 357s 79ms/step - loss: 0.5489 - accuracy: 0.7126 - val_loss: 0.6609 - val_accuracy: 0.6244\n",
      "Epoch 4/20\n",
      "4530/4530 [==============================] - 357s 79ms/step - loss: 0.5377 - accuracy: 0.7162 - val_loss: 0.6901 - val_accuracy: 0.6169\n",
      "Epoch 5/20\n",
      "4530/4530 [==============================] - 356s 79ms/step - loss: 0.5563 - accuracy: 0.7069 - val_loss: 0.6843 - val_accuracy: 0.6183\n",
      "Epoch 6/20\n",
      "4530/4530 [==============================] - 354s 78ms/step - loss: 0.5800 - accuracy: 0.6985 - val_loss: 0.7157 - val_accuracy: 0.6119\n",
      "Epoch 7/20\n",
      "4530/4530 [==============================] - 355s 78ms/step - loss: 0.5831 - accuracy: 0.6948 - val_loss: 0.7171 - val_accuracy: 0.6143\n",
      "Epoch 8/20\n",
      "4530/4530 [==============================] - 355s 78ms/step - loss: 0.5977 - accuracy: 0.6940 - val_loss: 0.9701 - val_accuracy: 0.6146\n",
      "Epoch 9/20\n",
      "4530/4530 [==============================] - 356s 79ms/step - loss: 0.6187 - accuracy: 0.6861 - val_loss: 0.7449 - val_accuracy: 0.6029\n",
      "Epoch 10/20\n",
      "4530/4530 [==============================] - 357s 79ms/step - loss: 0.6765 - accuracy: 0.6522 - val_loss: 0.6941 - val_accuracy: 0.6027\n",
      "Epoch 11/20\n",
      "4530/4530 [==============================] - 360s 79ms/step - loss: 0.6550 - accuracy: 0.6703 - val_loss: 0.8148 - val_accuracy: 0.5888\n",
      "Epoch 12/20\n",
      "4530/4530 [==============================] - 349s 77ms/step - loss: 0.6351 - accuracy: 0.6852 - val_loss: 0.7576 - val_accuracy: 0.6015\n",
      "Epoch 13/20\n",
      "4530/4530 [==============================] - 349s 77ms/step - loss: 0.6165 - accuracy: 0.6912 - val_loss: 0.7464 - val_accuracy: 0.5969\n",
      "Epoch 14/20\n",
      "4530/4530 [==============================] - 351s 78ms/step - loss: 0.6456 - accuracy: 0.6898 - val_loss: 0.8946 - val_accuracy: 0.5522\n",
      "Epoch 15/20\n",
      "4530/4530 [==============================] - 352s 78ms/step - loss: 0.7215 - accuracy: 0.6785 - val_loss: 0.7381 - val_accuracy: 0.6007\n",
      "Epoch 16/20\n",
      "4530/4530 [==============================] - 351s 77ms/step - loss: 0.8329 - accuracy: 0.6680 - val_loss: 0.8320 - val_accuracy: 0.5933\n",
      "Epoch 17/20\n",
      "4530/4530 [==============================] - 349s 77ms/step - loss: 0.8880 - accuracy: 0.6445 - val_loss: 0.9782 - val_accuracy: 0.5847\n",
      "Epoch 18/20\n",
      "4530/4530 [==============================] - 350s 77ms/step - loss: 0.8117 - accuracy: 0.6485 - val_loss: 0.9673 - val_accuracy: 0.5817\n",
      "Epoch 19/20\n",
      "4530/4530 [==============================] - 356s 79ms/step - loss: 0.8559 - accuracy: 0.6515 - val_loss: 0.9192 - val_accuracy: 0.5944\n",
      "Epoch 20/20\n",
      "4530/4530 [==============================] - 358s 79ms/step - loss: 0.9693 - accuracy: 0.6407 - val_loss: 1.2024 - val_accuracy: 0.5952\n",
      "1416/1416 [==============================] - 41s 29ms/step - loss: 0.8243 - accuracy: 0.6908\n",
      "608/608 [==============================] - 18s 30ms/step - loss: 1.2061 - accuracy: 0.5950\n",
      "Train accuracy: 0.6907605528831482\n",
      "Test accuracy: 0.5950064063072205\n"
     ]
    }
   ],
   "source": [
    "L = np.percentile(review_lengths, 70)\n",
    "top_words = 5000\n",
    "max_words = int(L) \n",
    "embed_vector_length = 32\n",
    "lstm_units = 256\n",
    "epoch = 20\n",
    "batch_size = 10\n",
    "\n",
    "pad_train = pad_sequences(tok_train, maxlen = int(L), padding = 'post', truncating = 'post')\n",
    "pad_test = pad_sequences(tok_test, maxlen = int(L), padding = 'post', truncating = 'post')\n",
    "pad_df = pad_sequences(tok_df, maxlen = int(L), padding = 'post', truncating = 'post')\n",
    "\n",
    "model = Sequential()\n",
    "model.add(Embedding(top_words+1, embed_vector_length, input_length=max_words, mask_zero=True))\n",
    "model.add(Bidirectional(LSTM(lstm_units, dropout=0.2, return_sequences=False)))\n",
    "model.add(Dense(256, activation='relu'))\n",
    "model.add(Dropout(0.2))\n",
    "model.add(Dense(1, activation='sigmoid'))\n",
    "model.compile(loss='binary_crossentropy', optimizer='adam', metrics=['accuracy'])\n",
    "model.summary()\n",
    "\n",
    "X = model.fit(pad_train, df_train['sentiment'], epochs=epoch, batch_size=batch_size, validation_data=(pad_test, df_test['sentiment']))\n",
    "\n",
    "train_loss, train_accuracy = model.evaluate(pad_train, df_train['sentiment'])\n",
    "test_loss, test_accuracy = model.evaluate(pad_test, df_test['sentiment'])\n",
    "\n",
    "print('Train accuracy:', train_accuracy)\n",
    "print('Test accuracy:', test_accuracy)"
   ]
  },
  {
   "cell_type": "code",
   "execution_count": 28,
   "metadata": {},
   "outputs": [
    {
     "name": "stdout",
     "output_type": "stream",
     "text": [
      "NumPy version== 1.23.2\n",
      "Pandas version== 2.0.3\n",
      "Scikit-learn version== 1.3.0\n",
      "TensorFlow version== 2.13.0\n",
      "Matplotlib version== 3.7.2\n",
      "Keras version== 2.6.0\n"
     ]
    }
   ],
   "source": [
    "# print(\"NumPy version==\", np.__version__)\n",
    "# print(\"Pandas version==\", pd.__version__)\n",
    "# print(\"Scikit-learn version==\", sklearn.__version__)\n",
    "# print(\"TensorFlow version==\", tf.__version__)\n",
    "# print(\"Matplotlib version==\", plt.matplotlib.__version__)\n",
    "# print(\"Keras version==\", keras.__version__)"
   ]
  }
 ],
 "metadata": {
  "kernelspec": {
   "display_name": "Python 3",
   "language": "python",
   "name": "python3"
  },
  "language_info": {
   "codemirror_mode": {
    "name": "ipython",
    "version": 3
   },
   "file_extension": ".py",
   "mimetype": "text/x-python",
   "name": "python",
   "nbconvert_exporter": "python",
   "pygments_lexer": "ipython3",
   "version": "3.8.16"
  }
 },
 "nbformat": 4,
 "nbformat_minor": 2
}
